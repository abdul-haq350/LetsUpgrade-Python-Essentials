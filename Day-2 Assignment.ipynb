{
 "cells": [
  {
   "cell_type": "markdown",
   "metadata": {},
   "source": [
    "# LetsUpgrade Python Essentials Batch-7              "
   ]
  },
  {
   "cell_type": "markdown",
   "metadata": {},
   "source": [
    "## Assignment Day-2                                                                                       "
   ]
  },
  {
   "cell_type": "markdown",
   "metadata": {},
   "source": [
    "### Q1. List and it's default functions/methods"
   ]
  },
  {
   "cell_type": "markdown",
   "metadata": {},
   "source": [
    "List : A list is a collection which is ordered and changeable. In Python lists are written with square brackets.\n",
    "\n",
    "Example : example_list=[\"hello\", \"hi, \"bye\"]\n",
    "\n",
    "Here, example_list is a list which contains the elements 'hello','hi','bye'\n",
    "\n",
    "Some of the methods are: append(), pop(), copy(), index(), insert()\n",
    "\n",
    "Some of the default functions are: len(), max(), min(), range(), list()"
   ]
  },
  {
   "cell_type": "code",
   "execution_count": 1,
   "metadata": {},
   "outputs": [
    {
     "name": "stdout",
     "output_type": "stream",
     "text": [
      "[36, 42, 1, 4, 213, 199, 85]\n"
     ]
    }
   ],
   "source": [
    "my_list = [36,42,1,4,213,199,85]\n",
    "\n",
    "print(my_list)"
   ]
  },
  {
   "cell_type": "markdown",
   "metadata": {},
   "source": [
    "##### List Methods"
   ]
  },
  {
   "cell_type": "code",
   "execution_count": 2,
   "metadata": {},
   "outputs": [
    {
     "name": "stdout",
     "output_type": "stream",
     "text": [
      "[36, 42, 1, 4, 213, 199, 85, 99]\n"
     ]
    }
   ],
   "source": [
    "#append() : The append() method appends an element to the end of the list.\n",
    "\n",
    "my_list.append(99)\n",
    "\n",
    "print(my_list)"
   ]
  },
  {
   "cell_type": "code",
   "execution_count": 3,
   "metadata": {},
   "outputs": [
    {
     "name": "stdout",
     "output_type": "stream",
     "text": [
      "[36, 42, 1, 4, 199, 85, 99]\n"
     ]
    }
   ],
   "source": [
    "#pop() : The pop() method removes the element at the specified position.\n",
    "\n",
    "my_list.pop(4)\n",
    "\n",
    "print(my_list)"
   ]
  },
  {
   "cell_type": "code",
   "execution_count": 4,
   "metadata": {},
   "outputs": [
    {
     "name": "stdout",
     "output_type": "stream",
     "text": [
      "[36, 42, 1, 4, 199, 85, 99]\n"
     ]
    }
   ],
   "source": [
    "# copy() : The copy() method returns a copy of the specified list.\n",
    "\n",
    "copy_list=my_list.copy()\n",
    "\n",
    "print(copy_list)"
   ]
  },
  {
   "cell_type": "code",
   "execution_count": 5,
   "metadata": {},
   "outputs": [
    {
     "data": {
      "text/plain": [
       "5"
      ]
     },
     "execution_count": 5,
     "metadata": {},
     "output_type": "execute_result"
    }
   ],
   "source": [
    "#index : The index() method returns the position at the first occurrence of the specified value.\n",
    "\n",
    "my_list.index(85)"
   ]
  },
  {
   "cell_type": "code",
   "execution_count": 6,
   "metadata": {},
   "outputs": [
    {
     "name": "stdout",
     "output_type": "stream",
     "text": [
      "[36, 42, 1, 4, 199, 22, 85, 99]\n"
     ]
    }
   ],
   "source": [
    "#insert : The insert() method inserts the specified value at the specified position.\n",
    "\n",
    "my_list.insert(5,22)\n",
    "\n",
    "print(my_list)"
   ]
  },
  {
   "cell_type": "code",
   "execution_count": null,
   "metadata": {},
   "outputs": [],
   "source": []
  },
  {
   "cell_type": "markdown",
   "metadata": {},
   "source": [
    "##### List Functions"
   ]
  },
  {
   "cell_type": "code",
   "execution_count": 7,
   "metadata": {},
   "outputs": [
    {
     "data": {
      "text/plain": [
       "8"
      ]
     },
     "execution_count": 7,
     "metadata": {},
     "output_type": "execute_result"
    }
   ],
   "source": [
    "#len() : Returns the length of the list\n",
    "\n",
    "len(my_list)"
   ]
  },
  {
   "cell_type": "code",
   "execution_count": 9,
   "metadata": {},
   "outputs": [
    {
     "data": {
      "text/plain": [
       "199"
      ]
     },
     "execution_count": 9,
     "metadata": {},
     "output_type": "execute_result"
    }
   ],
   "source": [
    "#max() : Returns the max value of the list\n",
    "\n",
    "max(my_list)"
   ]
  },
  {
   "cell_type": "code",
   "execution_count": 10,
   "metadata": {},
   "outputs": [
    {
     "data": {
      "text/plain": [
       "1"
      ]
     },
     "execution_count": 10,
     "metadata": {},
     "output_type": "execute_result"
    }
   ],
   "source": [
    "#min() : Returns the min value of the list\n",
    "\n",
    "min(my_list)"
   ]
  },
  {
   "cell_type": "code",
   "execution_count": 11,
   "metadata": {},
   "outputs": [
    {
     "name": "stdout",
     "output_type": "stream",
     "text": [
      "[0, 1, 2, 3, 4, 5, 6, 7, 8, 9]\n"
     ]
    }
   ],
   "source": [
    "#range() : Returns the items between a given range\n",
    "\n",
    "a=list(range(10))\n",
    "print(a)"
   ]
  },
  {
   "cell_type": "code",
   "execution_count": 12,
   "metadata": {},
   "outputs": [
    {
     "name": "stdout",
     "output_type": "stream",
     "text": [
      "[12, 123, 234, 1, 2, 32]\n"
     ]
    }
   ],
   "source": [
    "#list() : Returns a list \n",
    "\n",
    "b=(12,123,234,1,2,32)\n",
    "print(list(b))"
   ]
  },
  {
   "cell_type": "code",
   "execution_count": null,
   "metadata": {},
   "outputs": [],
   "source": []
  },
  {
   "cell_type": "markdown",
   "metadata": {},
   "source": [
    "### Q2. Dictionary and it's default functions/methods\n"
   ]
  },
  {
   "cell_type": "markdown",
   "metadata": {},
   "source": [
    "Dictionary : A dictionary is a collection which is unordered, changeable and indexed. In Python dictionaries are written with curly brackets, and they have keys and values.\n",
    "\n",
    "Example : example_dict={\"name\":\"john\", \"age\":40, \"address\":\"london}\n",
    "\n",
    "Here, example_dict is a dictionary which contains the key-values pairs like 'name':'john'\n",
    "\n",
    "Some of the methods are: keys(), values(), items(), update(), get()\n",
    "\n",
    "Some of the default functions are : len(), any(), sorted(), all(), str()"
   ]
  },
  {
   "cell_type": "code",
   "execution_count": 13,
   "metadata": {},
   "outputs": [
    {
     "name": "stdout",
     "output_type": "stream",
     "text": [
      "{'name': 'Abdul Haq', 'age': 21, 'address': 'Hyderabad'}\n"
     ]
    }
   ],
   "source": [
    "my_dict={\"name\":\"Abdul Haq\", \"age\":21, \"address\" : \"Hyderabad\"}\n",
    "\n",
    "print(my_dict)"
   ]
  },
  {
   "cell_type": "markdown",
   "metadata": {},
   "source": [
    "##### Dictionary Methods"
   ]
  },
  {
   "cell_type": "code",
   "execution_count": 14,
   "metadata": {},
   "outputs": [
    {
     "data": {
      "text/plain": [
       "dict_keys(['name', 'age', 'address'])"
      ]
     },
     "execution_count": 14,
     "metadata": {},
     "output_type": "execute_result"
    }
   ],
   "source": [
    "#keys() : Returns a list containing the dictionary's keys\n",
    "\n",
    "my_dict.keys()"
   ]
  },
  {
   "cell_type": "code",
   "execution_count": 15,
   "metadata": {},
   "outputs": [
    {
     "data": {
      "text/plain": [
       "dict_values(['Abdul Haq', 21, 'Hyderabad'])"
      ]
     },
     "execution_count": 15,
     "metadata": {},
     "output_type": "execute_result"
    }
   ],
   "source": [
    "#values() : Returns a list containing the dictionary's values\n",
    "\n",
    "my_dict.values()"
   ]
  },
  {
   "cell_type": "code",
   "execution_count": 16,
   "metadata": {},
   "outputs": [
    {
     "data": {
      "text/plain": [
       "dict_items([('name', 'Abdul Haq'), ('age', 21), ('address', 'Hyderabad')])"
      ]
     },
     "execution_count": 16,
     "metadata": {},
     "output_type": "execute_result"
    }
   ],
   "source": [
    "#items() : Returns a list containing a tuple for each key value pair\n",
    "\n",
    "my_dict.items()"
   ]
  },
  {
   "cell_type": "code",
   "execution_count": 17,
   "metadata": {},
   "outputs": [
    {
     "name": "stdout",
     "output_type": "stream",
     "text": [
      "{'name': 'Abdul Haq', 'age': 22, 'address': 'Hyderabad'}\n"
     ]
    }
   ],
   "source": [
    "#update() : Updates the dictionary with the specified key-value pairs\n",
    "\n",
    "my_dict.update({'age':22})\n",
    "\n",
    "print(my_dict)"
   ]
  },
  {
   "cell_type": "code",
   "execution_count": 18,
   "metadata": {},
   "outputs": [
    {
     "data": {
      "text/plain": [
       "'Abdul Haq'"
      ]
     },
     "execution_count": 18,
     "metadata": {},
     "output_type": "execute_result"
    }
   ],
   "source": [
    "#get() : Returns the value of the specified key\n",
    "\n",
    "my_dict.get('name')"
   ]
  },
  {
   "cell_type": "code",
   "execution_count": null,
   "metadata": {},
   "outputs": [],
   "source": []
  },
  {
   "cell_type": "markdown",
   "metadata": {},
   "source": [
    "##### Dictionary Functions"
   ]
  },
  {
   "cell_type": "code",
   "execution_count": 19,
   "metadata": {},
   "outputs": [
    {
     "name": "stdout",
     "output_type": "stream",
     "text": [
      "{'name': 'Abdul Haq', 'age': 22, 'address': 'Hyderabad'}\n"
     ]
    }
   ],
   "source": [
    "print(my_dict)"
   ]
  },
  {
   "cell_type": "code",
   "execution_count": 20,
   "metadata": {},
   "outputs": [
    {
     "data": {
      "text/plain": [
       "3"
      ]
     },
     "execution_count": 20,
     "metadata": {},
     "output_type": "execute_result"
    }
   ],
   "source": [
    "#len(): Returns the length of the list\n",
    "\n",
    "len(my_dict)"
   ]
  },
  {
   "cell_type": "code",
   "execution_count": 21,
   "metadata": {},
   "outputs": [
    {
     "data": {
      "text/plain": [
       "True"
      ]
     },
     "execution_count": 21,
     "metadata": {},
     "output_type": "execute_result"
    }
   ],
   "source": [
    "#any(): Returns true if any key of dictionary is true\n",
    "\n",
    "any(my_dict)"
   ]
  },
  {
   "cell_type": "code",
   "execution_count": 22,
   "metadata": {},
   "outputs": [
    {
     "data": {
      "text/plain": [
       "['address', 'age', 'name']"
      ]
     },
     "execution_count": 22,
     "metadata": {},
     "output_type": "execute_result"
    }
   ],
   "source": [
    "#sorted(): Returns a new sorted list of keys\n",
    "\n",
    "sorted(my_dict)"
   ]
  },
  {
   "cell_type": "code",
   "execution_count": 23,
   "metadata": {},
   "outputs": [
    {
     "data": {
      "text/plain": [
       "True"
      ]
     },
     "execution_count": 23,
     "metadata": {},
     "output_type": "execute_result"
    }
   ],
   "source": [
    "#all() : Returns true if all keys of dictionary are true\n",
    "\n",
    "all(my_dict)"
   ]
  },
  {
   "cell_type": "code",
   "execution_count": 24,
   "metadata": {},
   "outputs": [
    {
     "data": {
      "text/plain": [
       "\"{'name': 'Abdul Haq', 'age': 22, 'address': 'Hyderabad'}\""
      ]
     },
     "execution_count": 24,
     "metadata": {},
     "output_type": "execute_result"
    }
   ],
   "source": [
    "#str() : Returns a string which by converting the dictionary to string\n",
    "\n",
    "str(my_dict)"
   ]
  },
  {
   "cell_type": "code",
   "execution_count": null,
   "metadata": {},
   "outputs": [],
   "source": []
  },
  {
   "cell_type": "markdown",
   "metadata": {},
   "source": [
    "### Q3. Sets and it's default functions/methods"
   ]
  },
  {
   "cell_type": "markdown",
   "metadata": {},
   "source": [
    "Sets : A set is a collection which is unordered and unindexed. In Python sets are written with curly brackets.\n",
    "\n",
    "Example : example_set={\"apple\", \"mango\", \"grapes\", \"banana\"}\n",
    "\n",
    "Here, example_set is a set which contains the values 'apple','mango', etc.\n",
    "\n",
    "Some of the methods are : add(), difference(), intersection(), union(), remove()\n",
    "\n",
    "Some of the default functions are : all(), any(), len(), max(), sum()"
   ]
  },
  {
   "cell_type": "code",
   "execution_count": 25,
   "metadata": {},
   "outputs": [
    {
     "name": "stdout",
     "output_type": "stream",
     "text": [
      "{'John Wick', 'Bruce Wayne', 'Olliver Queen', 'Barry Allen'}\n"
     ]
    }
   ],
   "source": [
    "my_set={\"John Wick\", \"Barry Allen\", \"Olliver Queen\", \"Bruce Wayne\"}\n",
    "print(my_set)"
   ]
  },
  {
   "cell_type": "markdown",
   "metadata": {},
   "source": [
    "##### Set Methods"
   ]
  },
  {
   "cell_type": "code",
   "execution_count": 26,
   "metadata": {},
   "outputs": [
    {
     "name": "stdout",
     "output_type": "stream",
     "text": [
      "{'John Wick', 'Olliver Queen', 'Clark Kent', 'Barry Allen', 'Bruce Wayne'}\n"
     ]
    }
   ],
   "source": [
    "#add() : The add() method adds an element to the set.\n",
    "\n",
    "my_set.add(\"Clark Kent\")\n",
    "\n",
    "print(my_set)"
   ]
  },
  {
   "cell_type": "code",
   "execution_count": 27,
   "metadata": {},
   "outputs": [
    {
     "name": "stdout",
     "output_type": "stream",
     "text": [
      "{'John Wick', 'Olliver Queen'}\n"
     ]
    }
   ],
   "source": [
    "#difference() : The difference() method returns a set that contains the difference between two sets.\n",
    "\n",
    "my_set={\"John Wick\", \"Barry Allen\", \"Olliver Queen\", \"Bruce Wayne\"}\n",
    "my_set2={\"Keanu Reeves\", \"Bruce Wayne\", \"Green Arrow\", \"Barry Allen\"}\n",
    "\n",
    "result_set=my_set.difference(my_set2)\n",
    "\n",
    "print(result_set)"
   ]
  },
  {
   "cell_type": "code",
   "execution_count": 28,
   "metadata": {},
   "outputs": [
    {
     "name": "stdout",
     "output_type": "stream",
     "text": [
      "{'Bruce Wayne', 'Barry Allen'}\n"
     ]
    }
   ],
   "source": [
    "#intersection() : The intersection() method returns a set that contains the similarity between two or more sets.\n",
    "\n",
    "my_set3={\"John Wick\", \"Barry Allen\", \"Olliver Queen\", \"Bruce Wayne\"}\n",
    "my_set4={\"Keanu Reeves\", \"Bruce Wayne\", \"Green Arrow\", \"Barry Allen\"}\n",
    "\n",
    "result_set2=my_set3.intersection(my_set4)\n",
    "\n",
    "print(result_set2)"
   ]
  },
  {
   "cell_type": "code",
   "execution_count": 29,
   "metadata": {},
   "outputs": [
    {
     "name": "stdout",
     "output_type": "stream",
     "text": [
      "{'John Wick', 'Olliver Queen', 'Barry Allen', 'Bruce Wayne', 'Green Arrow', 'Keanu Reeves'}\n"
     ]
    }
   ],
   "source": [
    "#union() : The union() method returns a set that contains all items from the original set, and all items from the specified sets\n",
    "\n",
    "my_set5={\"John Wick\", \"Barry Allen\", \"Olliver Queen\", \"Bruce Wayne\"}\n",
    "my_set6={\"Keanu Reeves\", \"Bruce Wayne\", \"Green Arrow\", \"Barry Allen\"}\n",
    "\n",
    "result_set3=my_set5.union(my_set6)\n",
    "\n",
    "print(result_set3)"
   ]
  },
  {
   "cell_type": "code",
   "execution_count": 30,
   "metadata": {},
   "outputs": [
    {
     "name": "stdout",
     "output_type": "stream",
     "text": [
      "{'John Wick', 'Bruce Wayne', 'Olliver Queen', 'Barry Allen'}\n",
      "{'John Wick', 'Olliver Queen', 'Barry Allen'}\n"
     ]
    }
   ],
   "source": [
    "#remove() : The remove() method removes the specified element from the set.\n",
    "\n",
    "print(my_set)\n",
    "\n",
    "my_set.remove('Bruce Wayne')\n",
    "\n",
    "print(my_set)"
   ]
  },
  {
   "cell_type": "markdown",
   "metadata": {},
   "source": [
    "##### Set Functions"
   ]
  },
  {
   "cell_type": "code",
   "execution_count": 31,
   "metadata": {},
   "outputs": [
    {
     "name": "stdout",
     "output_type": "stream",
     "text": [
      "{'John Wick', 'Bruce Wayne', 'Olliver Queen', 'Barry Allen'}\n"
     ]
    }
   ],
   "source": [
    "my_set={\"John Wick\", \"Barry Allen\", \"Olliver Queen\", \"Bruce Wayne\"}\n",
    "print(my_set)"
   ]
  },
  {
   "cell_type": "code",
   "execution_count": 32,
   "metadata": {},
   "outputs": [
    {
     "data": {
      "text/plain": [
       "True"
      ]
     },
     "execution_count": 32,
     "metadata": {},
     "output_type": "execute_result"
    }
   ],
   "source": [
    "#all() : Returns true if all elements of set are true\n",
    "\n",
    "all(my_set)"
   ]
  },
  {
   "cell_type": "code",
   "execution_count": 33,
   "metadata": {},
   "outputs": [
    {
     "data": {
      "text/plain": [
       "True"
      ]
     },
     "execution_count": 33,
     "metadata": {},
     "output_type": "execute_result"
    }
   ],
   "source": [
    "#any() : Returns true if any element of set is true\n",
    "\n",
    "any(my_set)"
   ]
  },
  {
   "cell_type": "code",
   "execution_count": 34,
   "metadata": {},
   "outputs": [
    {
     "data": {
      "text/plain": [
       "4"
      ]
     },
     "execution_count": 34,
     "metadata": {},
     "output_type": "execute_result"
    }
   ],
   "source": [
    "#len() : Returns the length of the set\n",
    "\n",
    "len(my_set)"
   ]
  },
  {
   "cell_type": "code",
   "execution_count": 35,
   "metadata": {},
   "outputs": [
    {
     "name": "stdout",
     "output_type": "stream",
     "text": [
      "{32, 2, 12, 213, 123}\n"
     ]
    }
   ],
   "source": [
    "my_set2 = {2,213,32,12,123}\n",
    "\n",
    "print(my_set2)"
   ]
  },
  {
   "cell_type": "code",
   "execution_count": 36,
   "metadata": {},
   "outputs": [
    {
     "data": {
      "text/plain": [
       "213"
      ]
     },
     "execution_count": 36,
     "metadata": {},
     "output_type": "execute_result"
    }
   ],
   "source": [
    "#max() : Returns largest item in set\n",
    "\n",
    "max(my_set2)"
   ]
  },
  {
   "cell_type": "code",
   "execution_count": 37,
   "metadata": {},
   "outputs": [
    {
     "data": {
      "text/plain": [
       "382"
      ]
     },
     "execution_count": 37,
     "metadata": {},
     "output_type": "execute_result"
    }
   ],
   "source": [
    "#sum() : Returns sum of all elements in set\n",
    "\n",
    "sum(my_set2)"
   ]
  },
  {
   "cell_type": "code",
   "execution_count": null,
   "metadata": {},
   "outputs": [],
   "source": []
  },
  {
   "cell_type": "markdown",
   "metadata": {},
   "source": [
    "### Q4. Tuples and it's default functions/methods"
   ]
  },
  {
   "cell_type": "markdown",
   "metadata": {},
   "source": [
    "Tuple : A tuple is a collection which is ordered and unchangeable. In Python tuples are written with round brackets.\n",
    "\n",
    "Example : example_tuple=(\"cat\",\"fish\",\"dog\")\n",
    "\n",
    "Here, example_tuple is a tuple which contains the values 'cat','fish','dog'\n",
    "\n",
    "Some of the methods are: index(), count()\n",
    "\n",
    "Some of the default functions are : len(), max(), min(), sum(), sorted()"
   ]
  },
  {
   "cell_type": "code",
   "execution_count": 38,
   "metadata": {},
   "outputs": [
    {
     "name": "stdout",
     "output_type": "stream",
     "text": [
      "('Red', 'Green', 'Blue', 'Purple', 'Green')\n"
     ]
    }
   ],
   "source": [
    "my_tuple = (\"Red\",\"Green\",\"Blue\",\"Purple\", \"Green\") \n",
    "\n",
    "print(my_tuple)"
   ]
  },
  {
   "cell_type": "markdown",
   "metadata": {},
   "source": [
    "##### Tuple Methods"
   ]
  },
  {
   "cell_type": "code",
   "execution_count": 39,
   "metadata": {},
   "outputs": [
    {
     "data": {
      "text/plain": [
       "2"
      ]
     },
     "execution_count": 39,
     "metadata": {},
     "output_type": "execute_result"
    }
   ],
   "source": [
    "#index() : Searches the tuple for a specified value and returns the position of where it was found\n",
    "\n",
    "my_tuple.index(\"Blue\")"
   ]
  },
  {
   "cell_type": "code",
   "execution_count": 40,
   "metadata": {},
   "outputs": [
    {
     "data": {
      "text/plain": [
       "2"
      ]
     },
     "execution_count": 40,
     "metadata": {},
     "output_type": "execute_result"
    }
   ],
   "source": [
    "#count() : Returns the number of times a specified value occurs in a tuple\n",
    "\n",
    "my_tuple.count(\"Green\")"
   ]
  },
  {
   "cell_type": "markdown",
   "metadata": {},
   "source": [
    "##### Tuple Functions"
   ]
  },
  {
   "cell_type": "code",
   "execution_count": 41,
   "metadata": {},
   "outputs": [
    {
     "data": {
      "text/plain": [
       "5"
      ]
     },
     "execution_count": 41,
     "metadata": {},
     "output_type": "execute_result"
    }
   ],
   "source": [
    "#len() : Returns the length of the tuple\n",
    "\n",
    "my_tuple = (\"Red\",\"Green\",\"Blue\",\"Purple\", \"Green\") \n",
    "\n",
    "len(my_tuple)"
   ]
  },
  {
   "cell_type": "code",
   "execution_count": 42,
   "metadata": {},
   "outputs": [
    {
     "data": {
      "text/plain": [
       "123"
      ]
     },
     "execution_count": 42,
     "metadata": {},
     "output_type": "execute_result"
    }
   ],
   "source": [
    "#max() : Returns the max value of the tuple\n",
    "\n",
    "my_tuple2=(23,12,4,123)\n",
    "\n",
    "max(my_tuple2)"
   ]
  },
  {
   "cell_type": "code",
   "execution_count": 43,
   "metadata": {},
   "outputs": [
    {
     "data": {
      "text/plain": [
       "4"
      ]
     },
     "execution_count": 43,
     "metadata": {},
     "output_type": "execute_result"
    }
   ],
   "source": [
    "#min() : Returns the min value of the tuple\n",
    "\n",
    "my_tuple2=(23,12,4,123)\n",
    "\n",
    "min(my_tuple2)\n"
   ]
  },
  {
   "cell_type": "code",
   "execution_count": 44,
   "metadata": {},
   "outputs": [
    {
     "data": {
      "text/plain": [
       "162"
      ]
     },
     "execution_count": 44,
     "metadata": {},
     "output_type": "execute_result"
    }
   ],
   "source": [
    "#sum() : Returns sum of all elements in tuple\n",
    "\n",
    "my_tuple2=(23,12,4,123)\n",
    "\n",
    "sum(my_tuple2)"
   ]
  },
  {
   "cell_type": "code",
   "execution_count": 45,
   "metadata": {},
   "outputs": [
    {
     "data": {
      "text/plain": [
       "[4, 12, 23, 123]"
      ]
     },
     "execution_count": 45,
     "metadata": {},
     "output_type": "execute_result"
    }
   ],
   "source": [
    "#sorted() : Returns the tuple in sorted manner.\n",
    "\n",
    "my_tuple2=(23,12,4,123)\n",
    "\n",
    "sorted(my_tuple2)"
   ]
  },
  {
   "cell_type": "code",
   "execution_count": null,
   "metadata": {},
   "outputs": [],
   "source": []
  },
  {
   "cell_type": "markdown",
   "metadata": {},
   "source": [
    "### Q5. String and it's default methods"
   ]
  },
  {
   "cell_type": "markdown",
   "metadata": {},
   "source": [
    "String : String literals in python are surrounded by either single quotation marks, or double quotation marks.\n",
    "\n",
    "Example: example_str=\"I am the alpha\"\n",
    "\n",
    "Some of the methods are: upper(), lower(), count(), swapcase(), split(), splitlines()"
   ]
  },
  {
   "cell_type": "code",
   "execution_count": 46,
   "metadata": {},
   "outputs": [
    {
     "name": "stdout",
     "output_type": "stream",
     "text": [
      "My name is Barry Allen and I am the fastest man alive\n"
     ]
    }
   ],
   "source": [
    "my_str= \"My name is Barry Allen and I am the fastest man alive\"\n",
    "\n",
    "print(my_str)"
   ]
  },
  {
   "cell_type": "markdown",
   "metadata": {},
   "source": [
    "##### String Methods"
   ]
  },
  {
   "cell_type": "code",
   "execution_count": 47,
   "metadata": {},
   "outputs": [
    {
     "data": {
      "text/plain": [
       "'MY NAME IS BARRY ALLEN AND I AM THE FASTEST MAN ALIVE'"
      ]
     },
     "execution_count": 47,
     "metadata": {},
     "output_type": "execute_result"
    }
   ],
   "source": [
    "#upper(): Converts string to upper case.\n",
    "\n",
    "my_str.upper()"
   ]
  },
  {
   "cell_type": "code",
   "execution_count": 48,
   "metadata": {},
   "outputs": [
    {
     "data": {
      "text/plain": [
       "'my name is barry allen and i am the fastest man alive'"
      ]
     },
     "execution_count": 48,
     "metadata": {},
     "output_type": "execute_result"
    }
   ],
   "source": [
    "#lower() : Converts string to lower case\n",
    "\n",
    "my_str.lower()"
   ]
  },
  {
   "cell_type": "code",
   "execution_count": 49,
   "metadata": {},
   "outputs": [
    {
     "data": {
      "text/plain": [
       "1"
      ]
     },
     "execution_count": 49,
     "metadata": {},
     "output_type": "execute_result"
    }
   ],
   "source": [
    "#count() : Returns the number of times a specified value occurs in a string\n",
    "\n",
    "my_str.count('Barry')"
   ]
  },
  {
   "cell_type": "code",
   "execution_count": 50,
   "metadata": {},
   "outputs": [
    {
     "data": {
      "text/plain": [
       "'mY NAME IS bARRY aLLEN AND i AM THE FASTEST MAN ALIVE'"
      ]
     },
     "execution_count": 50,
     "metadata": {},
     "output_type": "execute_result"
    }
   ],
   "source": [
    "#swapcase() : Returns a string by swapping the cases.\n",
    "\n",
    "my_str.swapcase()"
   ]
  },
  {
   "cell_type": "code",
   "execution_count": 51,
   "metadata": {},
   "outputs": [
    {
     "data": {
      "text/plain": [
       "['My',\n",
       " 'name',\n",
       " 'is',\n",
       " 'Barry',\n",
       " 'Allen',\n",
       " 'and',\n",
       " 'I',\n",
       " 'am',\n",
       " 'the',\n",
       " 'fastest',\n",
       " 'man',\n",
       " 'alive']"
      ]
     },
     "execution_count": 51,
     "metadata": {},
     "output_type": "execute_result"
    }
   ],
   "source": [
    "#split() : Splits the string at specified separator and returns a list\n",
    "\n",
    "my_str.split()"
   ]
  },
  {
   "cell_type": "code",
   "execution_count": 52,
   "metadata": {},
   "outputs": [
    {
     "data": {
      "text/plain": [
       "['My name is Barry Allen and I am the fastest man alive']"
      ]
     },
     "execution_count": 52,
     "metadata": {},
     "output_type": "execute_result"
    }
   ],
   "source": [
    "#splitlines : Splits the string at line breaks and returns a list\n",
    "\n",
    "my_str.splitlines()"
   ]
  },
  {
   "cell_type": "code",
   "execution_count": null,
   "metadata": {},
   "outputs": [],
   "source": []
  }
 ],
 "metadata": {
  "kernelspec": {
   "display_name": "Python 3",
   "language": "python",
   "name": "python3"
  },
  "language_info": {
   "codemirror_mode": {
    "name": "ipython",
    "version": 3
   },
   "file_extension": ".py",
   "mimetype": "text/x-python",
   "name": "python",
   "nbconvert_exporter": "python",
   "pygments_lexer": "ipython3",
   "version": "3.8.2"
  }
 },
 "nbformat": 4,
 "nbformat_minor": 4
}
